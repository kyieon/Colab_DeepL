{
  "nbformat": 4,
  "nbformat_minor": 0,
  "metadata": {
    "colab": {
      "name": "Dacon7.ipynb",
      "provenance": [],
      "toc_visible": true,
      "authorship_tag": "ABX9TyOvvhlx1qpjHKUwQ/fqckhd",
      "include_colab_link": true
    },
    "kernelspec": {
      "name": "python3",
      "display_name": "Python 3"
    }
  },
  "cells": [
    {
      "cell_type": "markdown",
      "metadata": {
        "id": "view-in-github",
        "colab_type": "text"
      },
      "source": [
        "<a href=\"https://colab.research.google.com/github/kyieon/Colab_DeepL/blob/master/Dacon7.ipynb\" target=\"_parent\"><img src=\"https://colab.research.google.com/assets/colab-badge.svg\" alt=\"Open In Colab\"/></a>"
      ]
    },
    {
      "cell_type": "code",
      "metadata": {
        "id": "V7RJGOIlKPon",
        "colab_type": "code",
        "colab": {}
      },
      "source": [
        "from google.colab import drive\n",
        "drive.mount('/content/drive')"
      ],
      "execution_count": null,
      "outputs": []
    },
    {
      "cell_type": "code",
      "metadata": {
        "id": "ToZJ5y-KRLC7",
        "colab_type": "code",
        "colab": {}
      },
      "source": [
        "#cd \"/content/drive/My Drive/Colab Notebooks/Dacon7\"\n",
        "#!unzip -q data.zip\n",
        "#!ls"
      ],
      "execution_count": null,
      "outputs": []
    },
    {
      "cell_type": "code",
      "metadata": {
        "id": "vv3zOKrqzs1c",
        "colab_type": "code",
        "colab": {}
      },
      "source": [
        "#Import\n",
        "import pandas as pd\n",
        "import numpy as np\n",
        "import matplotlib.pyplot as plt\n",
        "\n",
        "import tensorflow as tf\n",
        "\n",
        "from keras.models import Sequential\n",
        "from keras.layers import Dense, Flatten, Conv2D, MaxPooling2D, Dropout\n",
        "from keras.optimizers import RMSprop\n",
        "\n",
        "from tensorflow.keras.preprocessing.image import ImageDataGenerator\n",
        "from keras.utils.np_utils import to_categorical\n",
        "from sklearn.model_selection import train_test_split"
      ],
      "execution_count": 97,
      "outputs": []
    },
    {
      "cell_type": "code",
      "metadata": {
        "id": "luXBD5mk0n74",
        "colab_type": "code",
        "colab": {}
      },
      "source": [
        "# 실제 이미지 보기\n",
        "# test_df = pd.read_csv('test.csv', index_col=0)\n",
        "\n",
        "# for i in range(5):  \n",
        "#   img = np.array(test_df.iloc[i, 1:]).reshape(28, 28).astype(np.float)\n",
        "#   plt.imshow(img)\n",
        "#   plt.show()"
      ],
      "execution_count": null,
      "outputs": []
    },
    {
      "cell_type": "code",
      "metadata": {
        "id": "k59fV07PTZFP",
        "colab_type": "code",
        "colab": {
          "base_uri": "https://localhost:8080/",
          "height": 1000
        },
        "outputId": "621fc605-394e-43a8-8b83-c13d9226e5bf"
      },
      "source": [
        "# 트레이닝\n",
        "\n",
        "train_df = pd.read_csv('train.csv', index_col=0)\n",
        "\n",
        "x_train = np.array(train_df.iloc[:, 2:]).reshape(-1, 28, 28, 1).astype(np.float)\n",
        "y_train = to_categorical(train_df['digit'].values.astype('int32'), 10)\n",
        "x_train, x_test, y_train, y_test = train_test_split(x_train, y_train, train_size=0.9)\n",
        "\n",
        "model = Sequential()\n",
        "model.add(Conv2D(32, kernel_size=(3,3), activation='relu', input_shape=(28, 28, 1)))\n",
        "model.add(MaxPooling2D((2,2)))\n",
        "model.add(Conv2D(64, kernel_size=(3,3), activation='relu'))\n",
        "model.add(MaxPooling2D((2,2)))\n",
        "model.add(Conv2D(128, kernel_size=(3,3), activation='relu'))\n",
        "model.add(MaxPooling2D((2,2)))\n",
        "model.add(Flatten())\n",
        "model.add(Dense(512, activation='relu'))\n",
        "model.add(Dropout(0.5))\n",
        "model.add(Dense(10, activation='softmax'))\n",
        "\n",
        "model.compile(optimizer=\"adam\", loss=\"categorical_crossentropy\", metrics=[\"accuracy\"])\n",
        "model.summary()\n",
        "\n",
        "hits = model.fit(x_train, y_train, batch_size=32, epochs=50, validation_data=(x_test, y_test))"
      ],
      "execution_count": 145,
      "outputs": [
        {
          "output_type": "stream",
          "text": [
            "Model: \"sequential_39\"\n",
            "_________________________________________________________________\n",
            "Layer (type)                 Output Shape              Param #   \n",
            "=================================================================\n",
            "conv2d_55 (Conv2D)           (None, 26, 26, 32)        320       \n",
            "_________________________________________________________________\n",
            "max_pooling2d_54 (MaxPooling (None, 13, 13, 32)        0         \n",
            "_________________________________________________________________\n",
            "conv2d_56 (Conv2D)           (None, 11, 11, 64)        18496     \n",
            "_________________________________________________________________\n",
            "max_pooling2d_55 (MaxPooling (None, 5, 5, 64)          0         \n",
            "_________________________________________________________________\n",
            "conv2d_57 (Conv2D)           (None, 3, 3, 128)         73856     \n",
            "_________________________________________________________________\n",
            "max_pooling2d_56 (MaxPooling (None, 1, 1, 128)         0         \n",
            "_________________________________________________________________\n",
            "flatten_38 (Flatten)         (None, 128)               0         \n",
            "_________________________________________________________________\n",
            "dense_76 (Dense)             (None, 512)               66048     \n",
            "_________________________________________________________________\n",
            "dropout_68 (Dropout)         (None, 512)               0         \n",
            "_________________________________________________________________\n",
            "dense_77 (Dense)             (None, 10)                5130      \n",
            "=================================================================\n",
            "Total params: 163,850\n",
            "Trainable params: 163,850\n",
            "Non-trainable params: 0\n",
            "_________________________________________________________________\n",
            "Epoch 1/30\n",
            "77/77 [==============================] - 2s 24ms/step - loss: 3.3781 - accuracy: 0.1145 - val_loss: 2.2709 - val_accuracy: 0.1366\n",
            "Epoch 2/30\n",
            "77/77 [==============================] - 2s 22ms/step - loss: 2.2519 - accuracy: 0.1568 - val_loss: 2.2337 - val_accuracy: 0.1707\n",
            "Epoch 3/30\n",
            "77/77 [==============================] - 2s 22ms/step - loss: 2.1127 - accuracy: 0.2301 - val_loss: 2.0094 - val_accuracy: 0.3024\n",
            "Epoch 4/30\n",
            "77/77 [==============================] - 2s 22ms/step - loss: 1.9344 - accuracy: 0.3104 - val_loss: 1.8895 - val_accuracy: 0.3415\n",
            "Epoch 5/30\n",
            "77/77 [==============================] - 2s 21ms/step - loss: 1.7737 - accuracy: 0.3695 - val_loss: 1.7971 - val_accuracy: 0.4000\n",
            "Epoch 6/30\n",
            "77/77 [==============================] - 2s 22ms/step - loss: 1.5393 - accuracy: 0.4666 - val_loss: 1.7771 - val_accuracy: 0.3610\n",
            "Epoch 7/30\n",
            "77/77 [==============================] - 2s 22ms/step - loss: 1.3672 - accuracy: 0.5290 - val_loss: 1.8816 - val_accuracy: 0.3854\n",
            "Epoch 8/30\n",
            "77/77 [==============================] - 2s 22ms/step - loss: 1.1405 - accuracy: 0.6142 - val_loss: 1.7860 - val_accuracy: 0.3854\n",
            "Epoch 9/30\n",
            "77/77 [==============================] - 2s 22ms/step - loss: 1.0093 - accuracy: 0.6668 - val_loss: 1.6908 - val_accuracy: 0.4439\n",
            "Epoch 10/30\n",
            "77/77 [==============================] - 2s 22ms/step - loss: 0.8642 - accuracy: 0.7016 - val_loss: 1.8159 - val_accuracy: 0.4195\n",
            "Epoch 11/30\n",
            "77/77 [==============================] - 2s 22ms/step - loss: 0.6987 - accuracy: 0.7575 - val_loss: 1.9520 - val_accuracy: 0.4537\n",
            "Epoch 12/30\n",
            "77/77 [==============================] - 2s 22ms/step - loss: 0.5450 - accuracy: 0.8139 - val_loss: 2.1534 - val_accuracy: 0.4683\n",
            "Epoch 13/30\n",
            "77/77 [==============================] - 2s 22ms/step - loss: 0.4294 - accuracy: 0.8508 - val_loss: 2.0608 - val_accuracy: 0.4439\n",
            "Epoch 14/30\n",
            "77/77 [==============================] - 2s 21ms/step - loss: 0.3898 - accuracy: 0.8752 - val_loss: 2.1361 - val_accuracy: 0.4439\n",
            "Epoch 15/30\n",
            "77/77 [==============================] - 2s 21ms/step - loss: 0.3035 - accuracy: 0.9023 - val_loss: 2.1718 - val_accuracy: 0.4683\n",
            "Epoch 16/30\n",
            "77/77 [==============================] - 2s 22ms/step - loss: 0.2669 - accuracy: 0.9050 - val_loss: 2.4099 - val_accuracy: 0.4585\n",
            "Epoch 17/30\n",
            "77/77 [==============================] - 2s 22ms/step - loss: 0.2081 - accuracy: 0.9273 - val_loss: 2.3578 - val_accuracy: 0.4878\n",
            "Epoch 18/30\n",
            "77/77 [==============================] - 2s 22ms/step - loss: 0.1483 - accuracy: 0.9474 - val_loss: 2.5926 - val_accuracy: 0.4634\n",
            "Epoch 19/30\n",
            "77/77 [==============================] - 2s 22ms/step - loss: 0.1327 - accuracy: 0.9566 - val_loss: 2.7664 - val_accuracy: 0.4780\n",
            "Epoch 20/30\n",
            "77/77 [==============================] - 2s 22ms/step - loss: 0.1787 - accuracy: 0.9436 - val_loss: 3.0151 - val_accuracy: 0.4195\n",
            "Epoch 21/30\n",
            "77/77 [==============================] - 2s 22ms/step - loss: 0.1808 - accuracy: 0.9468 - val_loss: 3.1170 - val_accuracy: 0.4439\n",
            "Epoch 22/30\n",
            "77/77 [==============================] - 2s 22ms/step - loss: 0.1887 - accuracy: 0.9376 - val_loss: 3.0372 - val_accuracy: 0.4537\n",
            "Epoch 23/30\n",
            "77/77 [==============================] - 2s 22ms/step - loss: 0.1217 - accuracy: 0.9626 - val_loss: 2.7750 - val_accuracy: 0.4732\n",
            "Epoch 24/30\n",
            "77/77 [==============================] - 2s 22ms/step - loss: 0.1184 - accuracy: 0.9582 - val_loss: 2.9740 - val_accuracy: 0.5024\n",
            "Epoch 25/30\n",
            "77/77 [==============================] - 2s 22ms/step - loss: 0.1236 - accuracy: 0.9560 - val_loss: 3.2519 - val_accuracy: 0.4488\n",
            "Epoch 26/30\n",
            "77/77 [==============================] - 2s 22ms/step - loss: 0.1375 - accuracy: 0.9560 - val_loss: 3.3438 - val_accuracy: 0.5024\n",
            "Epoch 27/30\n",
            "77/77 [==============================] - 2s 22ms/step - loss: 0.1121 - accuracy: 0.9664 - val_loss: 3.1957 - val_accuracy: 0.4829\n",
            "Epoch 28/30\n",
            "77/77 [==============================] - 2s 22ms/step - loss: 0.0653 - accuracy: 0.9794 - val_loss: 3.3834 - val_accuracy: 0.4341\n",
            "Epoch 29/30\n",
            "77/77 [==============================] - 2s 22ms/step - loss: 0.1098 - accuracy: 0.9588 - val_loss: 3.0621 - val_accuracy: 0.4732\n",
            "Epoch 30/30\n",
            "77/77 [==============================] - 2s 22ms/step - loss: 0.0380 - accuracy: 0.9859 - val_loss: 3.5007 - val_accuracy: 0.5024\n"
          ],
          "name": "stdout"
        }
      ]
    },
    {
      "cell_type": "code",
      "metadata": {
        "id": "dUBl2JX8vKKz",
        "colab_type": "code",
        "colab": {
          "base_uri": "https://localhost:8080/",
          "height": 281
        },
        "outputId": "658a6dd8-b4e4-44b5-c2b3-45ac2aa4685a"
      },
      "source": [
        "#예측모델 체크\n",
        "\n",
        "acc = hits.history['accuracy']\n",
        "val_acc = hits.history['val_accuracy']\n",
        "loss = hits.history['loss']\n",
        "val_loss = hits.history['val_loss']\n",
        "\n",
        "plt.plot(acc)\n",
        "plt.plot(val_acc)\n",
        "plt.title('Accuracy')\n",
        "plt.legend(['train, test'], loc='upper left')\n",
        "plt.show()"
      ],
      "execution_count": 142,
      "outputs": [
        {
          "output_type": "display_data",
          "data": {
            "image/png": "[encoded data removed]",
            "text/plain": [
              "<Figure size 432x288 with 1 Axes>"
            ]
          },
          "metadata": {
            "tags": [],
            "needs_background": "light"
          }
        }
      ]
    },
    {
      "cell_type": "code",
      "metadata": {
        "id": "ugAuk0Pk2aF4",
        "colab_type": "code",
        "colab": {}
      },
      "source": [
        "#예측하기\n",
        "test_df = pd.read_csv('test.csv', index_col=0)\n",
        "x_predict = np.array(test_df.iloc[:, 1:]).reshape(-1, 28, 28, 1).astype(np.float)\n",
        "results = np.argmax(model.predict(x_predict), axis=1)"
      ],
      "execution_count": null,
      "outputs": []
    },
    {
      "cell_type": "code",
      "metadata": {
        "id": "NHdwGfOO4ZqP",
        "colab_type": "code",
        "colab": {}
      },
      "source": [
        "#제출\n",
        "submission_df = pd.read_csv('submission.csv', index_col=0)\n",
        "submission_df.digit = results2\n",
        "submission_df.to_csv('result.csv')"
      ],
      "execution_count": 162,
      "outputs": []
    }
  ]
}